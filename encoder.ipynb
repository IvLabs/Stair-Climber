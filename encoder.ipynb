{
 "cells": [
  {
   "cell_type": "code",
   "execution_count": 1,
   "metadata": {},
   "outputs": [],
   "source": [
    "import torch\n",
    "import torch.nn as nn\n",
    "import torch.nn.functional as F\n",
    "import gym\n",
    "from torchsummary import summary\n",
    "import matplotlib.pyplot as plt\n",
    "%matplotlib inline\n",
    "import cv2\n",
    "import numpy as np\n",
    "from batchup import data_source\n",
    "from IPython.display import clear_output"
   ]
  },
  {
   "cell_type": "code",
   "execution_count": 2,
   "metadata": {},
   "outputs": [],
   "source": [
    "def plot(losses):\n",
    "    clear_output(True)\n",
    "    plt.plot(losses)\n",
    "    plt.show()\n",
    "    "
   ]
  },
  {
   "cell_type": "code",
   "execution_count": 3,
   "metadata": {},
   "outputs": [],
   "source": [
    "env = gym.make('Pendulum-v0')"
   ]
  },
  {
   "cell_type": "code",
   "execution_count": 4,
   "metadata": {},
   "outputs": [],
   "source": [
    "class Encode(nn.Module):\n",
    "    def __init__(self):\n",
    "        super().__init__()\n",
    "        self.encode = nn.Sequential(nn.Conv2d(1,16,kernel_size=3, padding=1),\n",
    "                                   nn.ReLU(),\n",
    "                                   nn.MaxPool2d(2,2),\n",
    "                                   nn.Conv2d(16,256,kernel_size=3, padding=1),\n",
    "                                   nn.ReLU(),\n",
    "                                   nn.MaxPool2d(2,2),\n",
    "                                   nn.Conv2d(256,16,kernel_size=3, padding=1),\n",
    "                                   nn.ReLU(),\n",
    "                                   nn.MaxPool2d(2,2), \n",
    "                                   )\n",
    "        self.decode = nn.Sequential(nn.ConvTranspose2d(16,256,2, stride=2),\n",
    "                                   nn.ReLU(),\n",
    "                                   nn.ConvTranspose2d(256,16,2, stride=2),\n",
    "                                   nn.ReLU(),\n",
    "                                   nn.ConvTranspose2d(16,1,2, stride=2),\n",
    "                                   nn.Sigmoid())\n",
    "    def forward(self, state):\n",
    "        return self.decode(self.encode(state))\n",
    "    \n",
    "    def encd(self,state):\n",
    "        return self.encode(state)"
   ]
  },
  {
   "cell_type": "code",
   "execution_count": null,
   "metadata": {},
   "outputs": [],
   "source": []
  },
  {
   "cell_type": "code",
   "execution_count": 5,
   "metadata": {},
   "outputs": [],
   "source": [
    "model = Encode()"
   ]
  },
  {
   "cell_type": "code",
   "execution_count": 6,
   "metadata": {},
   "outputs": [],
   "source": [
    "model = model.cuda()"
   ]
  },
  {
   "cell_type": "code",
   "execution_count": 7,
   "metadata": {},
   "outputs": [
    {
     "name": "stdout",
     "output_type": "stream",
     "text": [
      "----------------------------------------------------------------\n",
      "        Layer (type)               Output Shape         Param #\n",
      "================================================================\n",
      "            Conv2d-1         [-1, 16, 128, 128]             160\n",
      "              ReLU-2         [-1, 16, 128, 128]               0\n",
      "         MaxPool2d-3           [-1, 16, 64, 64]               0\n",
      "            Conv2d-4          [-1, 256, 64, 64]          37,120\n",
      "              ReLU-5          [-1, 256, 64, 64]               0\n",
      "         MaxPool2d-6          [-1, 256, 32, 32]               0\n",
      "            Conv2d-7           [-1, 16, 32, 32]          36,880\n",
      "              ReLU-8           [-1, 16, 32, 32]               0\n",
      "         MaxPool2d-9           [-1, 16, 16, 16]               0\n",
      "  ConvTranspose2d-10          [-1, 256, 32, 32]          16,640\n",
      "             ReLU-11          [-1, 256, 32, 32]               0\n",
      "  ConvTranspose2d-12           [-1, 16, 64, 64]          16,400\n",
      "             ReLU-13           [-1, 16, 64, 64]               0\n",
      "  ConvTranspose2d-14          [-1, 1, 128, 128]              65\n",
      "          Sigmoid-15          [-1, 1, 128, 128]               0\n",
      "================================================================\n",
      "Total params: 107,265\n",
      "Trainable params: 107,265\n",
      "Non-trainable params: 0\n",
      "----------------------------------------------------------------\n",
      "Input size (MB): 0.06\n",
      "Forward/backward pass size (MB): 28.03\n",
      "Params size (MB): 0.41\n",
      "Estimated Total Size (MB): 28.50\n",
      "----------------------------------------------------------------\n"
     ]
    }
   ],
   "source": [
    "summary(model, (1,128,128))"
   ]
  },
  {
   "cell_type": "code",
   "execution_count": 8,
   "metadata": {},
   "outputs": [],
   "source": [
    "data = np.zeros((5000,1,128,128))\n",
    "state = env.reset()\n",
    "done  = False\n",
    "for i in range(5000):\n",
    "    if done:\n",
    "        state = env.reset()\n",
    "    image = env.render(mode=\"rgb_array\")\n",
    "    image = cv2.resize(image, (128,128))\n",
    "    image = cv2.cv2.cvtColor(image, cv2.COLOR_BGR2GRAY).reshape(1,128,128)\n",
    "    data[i] = image/255\n",
    "    state, re, done, _ = env.step(env.action_space.sample())\n",
    "    \n",
    "env.close()"
   ]
  },
  {
   "cell_type": "code",
   "execution_count": 9,
   "metadata": {},
   "outputs": [],
   "source": [
    "opti = torch.optim.Adam(model.parameters())\n",
    "crit = nn.MSELoss()"
   ]
  },
  {
   "cell_type": "code",
   "execution_count": 10,
   "metadata": {},
   "outputs": [],
   "source": [
    "ds = data_source.ArrayDataSource([data])"
   ]
  },
  {
   "cell_type": "code",
   "execution_count": 11,
   "metadata": {},
   "outputs": [
    {
     "data": {
      "image/png": "[encoded data removed]",
      "text/plain": [
       "<Figure size 432x288 with 1 Axes>"
      ]
     },
     "metadata": {
      "needs_background": "light"
     },
     "output_type": "display_data"
    }
   ],
   "source": [
    "lol = []\n",
    "for i in range(10):\n",
    "    for (batch_X) in ds.batch_iterator(batch_size=64, shuffle=np.random.RandomState(12345)):\n",
    "        images = batch_X[0]\n",
    "        images = torch.FloatTensor(images).cuda()\n",
    "        \n",
    "        enc = model(images)\n",
    "        loss = crit(enc, images)\n",
    "        opti.zero_grad()\n",
    "        loss.backward()\n",
    "        opti.step()\n",
    "        lol.append(loss.item())\n",
    "    plot(lol)\n",
    "        "
   ]
  },
  {
   "cell_type": "code",
   "execution_count": 22,
   "metadata": {},
   "outputs": [],
   "source": [
    "a = enc[5].cpu().detach()"
   ]
  },
  {
   "cell_type": "code",
   "execution_count": 23,
   "metadata": {},
   "outputs": [],
   "source": [
    "s = a.numpy()"
   ]
  },
  {
   "cell_type": "code",
   "execution_count": 33,
   "metadata": {},
   "outputs": [],
   "source": [
    "s = s*255\n",
    "s = s.astype(np.uint8)"
   ]
  },
  {
   "cell_type": "code",
   "execution_count": 34,
   "metadata": {},
   "outputs": [],
   "source": [
    "s = s.reshape(128,128)"
   ]
  },
  {
   "cell_type": "code",
   "execution_count": 35,
   "metadata": {},
   "outputs": [
    {
     "data": {
      "text/plain": [
       "<matplotlib.image.AxesImage at 0x7f2116c5de20>"
      ]
     },
     "execution_count": 35,
     "metadata": {},
     "output_type": "execute_result"
    },
    {
     "data": {
      "image/png": "[encoded data removed]",
      "text/plain": [
       "<Figure size 432x288 with 1 Axes>"
      ]
     },
     "metadata": {
      "needs_background": "light"
     },
     "output_type": "display_data"
    }
   ],
   "source": [
    "plt.imshow(s, cmap='gray', vmin=0, vmax=255)"
   ]
  },
  {
   "cell_type": "code",
   "execution_count": 18,
   "metadata": {},
   "outputs": [],
   "source": [
    "torch.save(model.state_dict(), \"encode.pt\")"
   ]
  },
  {
   "cell_type": "code",
   "execution_count": null,
   "metadata": {},
   "outputs": [],
   "source": []
  }
 ],
 "metadata": {
  "kernelspec": {
   "display_name": "Python condaR",
   "language": "python",
   "name": "myenv"
  },
  "language_info": {
   "codemirror_mode": {
    "name": "ipython",
    "version": 3
   },
   "file_extension": ".py",
   "mimetype": "text/x-python",
   "name": "python",
   "nbconvert_exporter": "python",
   "pygments_lexer": "ipython3",
   "version": "3.8.5"
  }
 },
 "nbformat": 4,
 "nbformat_minor": 4
}
